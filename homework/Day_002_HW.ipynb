{
 "cells": [
  {
   "cell_type": "markdown",
   "metadata": {},
   "source": [
    "## [作業目標]\n",
    "了解機器學習適合應用的領域與範疇。"
   ]
  },
  {
   "cell_type": "markdown",
   "metadata": {},
   "source": [
    "## [作業重點]\n",
    "透過瞭解機器學習的運作方式，找出非常適用機器學習應用的領域及其原因"
   ]
  },
  {
   "cell_type": "markdown",
   "metadata": {},
   "source": [
    "## 作業\n",
    "請找出一個你認為機器學習可以發光發熱的領域並闡述原因? "
   ]
  },
  {
   "cell_type": "code",
   "execution_count": 3,
   "metadata": {},
   "outputs": [
    {
     "ename": "SyntaxError",
     "evalue": "invalid syntax (<ipython-input-3-c5a94fb09d63>, line 2)",
     "output_type": "error",
     "traceback": [
      "\u001b[1;36m  File \u001b[1;32m\"<ipython-input-3-c5a94fb09d63>\"\u001b[1;36m, line \u001b[1;32m2\u001b[0m\n\u001b[1;33m    請找出一個你認為機器學習可以發光發熱的領域並闡述原因?\u001b[0m\n\u001b[1;37m                              ^\u001b[0m\n\u001b[1;31mSyntaxError\u001b[0m\u001b[1;31m:\u001b[0m invalid syntax\n"
     ]
    }
   ],
   "source": [
    "GIS領域。\n",
    "\n",
    "之所以會選擇這個行業，是因為目前個人就在這個行業工作，在工作同時，亦發現公司內許多不同的業務其實仍舊靠著大量人力方式來處理，\n",
    "例如道路裂縫的狀況判別、閥栓確認等，且大多數中小企業也並沒有意識目前可以結合Machine Learning去幫助企業提升效率，同時也能降低人為疏失，\n",
    "若有資料敏銳度較高的人才，也許還能從中找到能賦予企業新價值的事物，開闢另一條新藍海。\n",
    "\n",
    "未來更延伸之，諸如道路損壞預測、交通塞車時間段捷徑路線分析、美食地圖分析（甚至可以結合一些其他的有趣不同行業的東西），無論是否天馬行空，\n",
    "這都將是一件非常有意思的事情，讓AI除了目前發展較為成熟、使用較多的醫療行業外，也能積極跨越到其他行業來，在各個行業注射一股新力量！"
   ]
  },
  {
   "cell_type": "code",
   "execution_count": null,
   "metadata": {},
   "outputs": [],
   "source": []
  }
 ],
 "metadata": {
  "kernelspec": {
   "display_name": "Python 3",
   "language": "python",
   "name": "python3"
  },
  "language_info": {
   "codemirror_mode": {
    "name": "ipython",
    "version": 3
   },
   "file_extension": ".py",
   "mimetype": "text/x-python",
   "name": "python",
   "nbconvert_exporter": "python",
   "pygments_lexer": "ipython3",
   "version": "3.7.4"
  }
 },
 "nbformat": 4,
 "nbformat_minor": 2
}
